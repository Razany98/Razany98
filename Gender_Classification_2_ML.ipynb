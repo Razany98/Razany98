{
  "nbformat": 4,
  "nbformat_minor": 0,
  "metadata": {
    "colab": {
      "provenance": [],
      "toc_visible": true,
      "include_colab_link": true
    },
    "kernelspec": {
      "name": "python3",
      "display_name": "Python 3"
    },
    "language_info": {
      "name": "python"
    }
  },
  "cells": [
    {
      "cell_type": "markdown",
      "metadata": {
        "id": "view-in-github",
        "colab_type": "text"
      },
      "source": [
        "<a href=\"https://colab.research.google.com/github/Razany98/Razany98/blob/main/Gender_Classification_2_ML.ipynb\" target=\"_parent\"><img src=\"https://colab.research.google.com/assets/colab-badge.svg\" alt=\"Open In Colab\"/></a>"
      ]
    },
    {
      "cell_type": "markdown",
      "source": [
        "# Uploading Dataset and importing libraries"
      ],
      "metadata": {
        "id": "GPUGS8g4Bajj"
      }
    },
    {
      "cell_type": "code",
      "source": [
        "import numpy as np\n",
        "import pandas as pd\n",
        "import matplotlib.pyplot as plt\n",
        "\n",
        "from sklearn.preprocessing import LabelEncoder, StandardScaler\n",
        "from sklearn.model_selection import train_test_split\n",
        "\n",
        "import tensorflow as tf"
      ],
      "metadata": {
        "id": "1q98aWlTBfvl"
      },
      "execution_count": null,
      "outputs": []
    },
    {
      "cell_type": "code",
      "source": [
        "from google.colab import drive\n",
        "drive.mount('/content/drive')"
      ],
      "metadata": {
        "colab": {
          "base_uri": "https://localhost:8080/"
        },
        "id": "2YeJEgls7p2P",
        "outputId": "607c5515-ea94-46dc-88f7-6f71a72f92ae"
      },
      "execution_count": null,
      "outputs": [
        {
          "output_type": "stream",
          "name": "stdout",
          "text": [
            "Drive already mounted at /content/drive; to attempt to forcibly remount, call drive.mount(\"/content/drive\", force_remount=True).\n"
          ]
        }
      ]
    },
    {
      "cell_type": "code",
      "source": [
        "df = pd.read_csv('/content/drive/MyDrive/voice.csv')"
      ],
      "metadata": {
        "id": "kVdZH8AN5pT-"
      },
      "execution_count": null,
      "outputs": []
    },
    {
      "cell_type": "markdown",
      "source": [
        "# Reading the dataset & Pre-Processing"
      ],
      "metadata": {
        "id": "vO59gFnRBzk9"
      }
    },
    {
      "cell_type": "code",
      "source": [
        "df"
      ],
      "metadata": {
        "colab": {
          "base_uri": "https://localhost:8080/",
          "height": 488
        },
        "id": "fAlAf8325rBA",
        "outputId": "24d21d59-2f42-42d8-c776-907c9a05ff78"
      },
      "execution_count": null,
      "outputs": [
        {
          "output_type": "execute_result",
          "data": {
            "text/plain": [
              "      meanfreq        sd    median       Q25       Q75       IQR       skew  \\\n",
              "0     0.059781  0.064241  0.032027  0.015071  0.090193  0.075122  12.863462   \n",
              "1     0.066009  0.067310  0.040229  0.019414  0.092666  0.073252  22.423285   \n",
              "2     0.077316  0.083829  0.036718  0.008701  0.131908  0.123207  30.757155   \n",
              "3     0.151228  0.072111  0.158011  0.096582  0.207955  0.111374   1.232831   \n",
              "4     0.135120  0.079146  0.124656  0.078720  0.206045  0.127325   1.101174   \n",
              "...        ...       ...       ...       ...       ...       ...        ...   \n",
              "3163  0.131884  0.084734  0.153707  0.049285  0.201144  0.151859   1.762129   \n",
              "3164  0.116221  0.089221  0.076758  0.042718  0.204911  0.162193   0.693730   \n",
              "3165  0.142056  0.095798  0.183731  0.033424  0.224360  0.190936   1.876502   \n",
              "3166  0.143659  0.090628  0.184976  0.043508  0.219943  0.176435   1.591065   \n",
              "3167  0.165509  0.092884  0.183044  0.070072  0.250827  0.180756   1.705029   \n",
              "\n",
              "             kurt    sp.ent       sfm  ...  centroid   meanfun    minfun  \\\n",
              "0      274.402906  0.893369  0.491918  ...  0.059781  0.084279  0.015702   \n",
              "1      634.613855  0.892193  0.513724  ...  0.066009  0.107937  0.015826   \n",
              "2     1024.927705  0.846389  0.478905  ...  0.077316  0.098706  0.015656   \n",
              "3        4.177296  0.963322  0.727232  ...  0.151228  0.088965  0.017798   \n",
              "4        4.333713  0.971955  0.783568  ...  0.135120  0.106398  0.016931   \n",
              "...           ...       ...       ...  ...       ...       ...       ...   \n",
              "3163     6.630383  0.962934  0.763182  ...  0.131884  0.182790  0.083770   \n",
              "3164     2.503954  0.960716  0.709570  ...  0.116221  0.188980  0.034409   \n",
              "3165     6.604509  0.946854  0.654196  ...  0.142056  0.209918  0.039506   \n",
              "3166     5.388298  0.950436  0.675470  ...  0.143659  0.172375  0.034483   \n",
              "3167     5.769115  0.938829  0.601529  ...  0.165509  0.185607  0.062257   \n",
              "\n",
              "        maxfun   meandom    mindom    maxdom   dfrange   modindx   label  \n",
              "0     0.275862  0.007812  0.007812  0.007812  0.000000  0.000000    male  \n",
              "1     0.250000  0.009014  0.007812  0.054688  0.046875  0.052632    male  \n",
              "2     0.271186  0.007990  0.007812  0.015625  0.007812  0.046512    male  \n",
              "3     0.250000  0.201497  0.007812  0.562500  0.554688  0.247119    male  \n",
              "4     0.266667  0.712812  0.007812  5.484375  5.476562  0.208274    male  \n",
              "...        ...       ...       ...       ...       ...       ...     ...  \n",
              "3163  0.262295  0.832899  0.007812  4.210938  4.203125  0.161929  female  \n",
              "3164  0.275862  0.909856  0.039062  3.679688  3.640625  0.277897  female  \n",
              "3165  0.275862  0.494271  0.007812  2.937500  2.929688  0.194759  female  \n",
              "3166  0.250000  0.791360  0.007812  3.593750  3.585938  0.311002  female  \n",
              "3167  0.271186  0.227022  0.007812  0.554688  0.546875  0.350000  female  \n",
              "\n",
              "[3168 rows x 21 columns]"
            ],
            "text/html": [
              "\n",
              "  <div id=\"df-4d5027a1-5597-4b5a-9582-3f6ff9fee300\">\n",
              "    <div class=\"colab-df-container\">\n",
              "      <div>\n",
              "<style scoped>\n",
              "    .dataframe tbody tr th:only-of-type {\n",
              "        vertical-align: middle;\n",
              "    }\n",
              "\n",
              "    .dataframe tbody tr th {\n",
              "        vertical-align: top;\n",
              "    }\n",
              "\n",
              "    .dataframe thead th {\n",
              "        text-align: right;\n",
              "    }\n",
              "</style>\n",
              "<table border=\"1\" class=\"dataframe\">\n",
              "  <thead>\n",
              "    <tr style=\"text-align: right;\">\n",
              "      <th></th>\n",
              "      <th>meanfreq</th>\n",
              "      <th>sd</th>\n",
              "      <th>median</th>\n",
              "      <th>Q25</th>\n",
              "      <th>Q75</th>\n",
              "      <th>IQR</th>\n",
              "      <th>skew</th>\n",
              "      <th>kurt</th>\n",
              "      <th>sp.ent</th>\n",
              "      <th>sfm</th>\n",
              "      <th>...</th>\n",
              "      <th>centroid</th>\n",
              "      <th>meanfun</th>\n",
              "      <th>minfun</th>\n",
              "      <th>maxfun</th>\n",
              "      <th>meandom</th>\n",
              "      <th>mindom</th>\n",
              "      <th>maxdom</th>\n",
              "      <th>dfrange</th>\n",
              "      <th>modindx</th>\n",
              "      <th>label</th>\n",
              "    </tr>\n",
              "  </thead>\n",
              "  <tbody>\n",
              "    <tr>\n",
              "      <th>0</th>\n",
              "      <td>0.059781</td>\n",
              "      <td>0.064241</td>\n",
              "      <td>0.032027</td>\n",
              "      <td>0.015071</td>\n",
              "      <td>0.090193</td>\n",
              "      <td>0.075122</td>\n",
              "      <td>12.863462</td>\n",
              "      <td>274.402906</td>\n",
              "      <td>0.893369</td>\n",
              "      <td>0.491918</td>\n",
              "      <td>...</td>\n",
              "      <td>0.059781</td>\n",
              "      <td>0.084279</td>\n",
              "      <td>0.015702</td>\n",
              "      <td>0.275862</td>\n",
              "      <td>0.007812</td>\n",
              "      <td>0.007812</td>\n",
              "      <td>0.007812</td>\n",
              "      <td>0.000000</td>\n",
              "      <td>0.000000</td>\n",
              "      <td>male</td>\n",
              "    </tr>\n",
              "    <tr>\n",
              "      <th>1</th>\n",
              "      <td>0.066009</td>\n",
              "      <td>0.067310</td>\n",
              "      <td>0.040229</td>\n",
              "      <td>0.019414</td>\n",
              "      <td>0.092666</td>\n",
              "      <td>0.073252</td>\n",
              "      <td>22.423285</td>\n",
              "      <td>634.613855</td>\n",
              "      <td>0.892193</td>\n",
              "      <td>0.513724</td>\n",
              "      <td>...</td>\n",
              "      <td>0.066009</td>\n",
              "      <td>0.107937</td>\n",
              "      <td>0.015826</td>\n",
              "      <td>0.250000</td>\n",
              "      <td>0.009014</td>\n",
              "      <td>0.007812</td>\n",
              "      <td>0.054688</td>\n",
              "      <td>0.046875</td>\n",
              "      <td>0.052632</td>\n",
              "      <td>male</td>\n",
              "    </tr>\n",
              "    <tr>\n",
              "      <th>2</th>\n",
              "      <td>0.077316</td>\n",
              "      <td>0.083829</td>\n",
              "      <td>0.036718</td>\n",
              "      <td>0.008701</td>\n",
              "      <td>0.131908</td>\n",
              "      <td>0.123207</td>\n",
              "      <td>30.757155</td>\n",
              "      <td>1024.927705</td>\n",
              "      <td>0.846389</td>\n",
              "      <td>0.478905</td>\n",
              "      <td>...</td>\n",
              "      <td>0.077316</td>\n",
              "      <td>0.098706</td>\n",
              "      <td>0.015656</td>\n",
              "      <td>0.271186</td>\n",
              "      <td>0.007990</td>\n",
              "      <td>0.007812</td>\n",
              "      <td>0.015625</td>\n",
              "      <td>0.007812</td>\n",
              "      <td>0.046512</td>\n",
              "      <td>male</td>\n",
              "    </tr>\n",
              "    <tr>\n",
              "      <th>3</th>\n",
              "      <td>0.151228</td>\n",
              "      <td>0.072111</td>\n",
              "      <td>0.158011</td>\n",
              "      <td>0.096582</td>\n",
              "      <td>0.207955</td>\n",
              "      <td>0.111374</td>\n",
              "      <td>1.232831</td>\n",
              "      <td>4.177296</td>\n",
              "      <td>0.963322</td>\n",
              "      <td>0.727232</td>\n",
              "      <td>...</td>\n",
              "      <td>0.151228</td>\n",
              "      <td>0.088965</td>\n",
              "      <td>0.017798</td>\n",
              "      <td>0.250000</td>\n",
              "      <td>0.201497</td>\n",
              "      <td>0.007812</td>\n",
              "      <td>0.562500</td>\n",
              "      <td>0.554688</td>\n",
              "      <td>0.247119</td>\n",
              "      <td>male</td>\n",
              "    </tr>\n",
              "    <tr>\n",
              "      <th>4</th>\n",
              "      <td>0.135120</td>\n",
              "      <td>0.079146</td>\n",
              "      <td>0.124656</td>\n",
              "      <td>0.078720</td>\n",
              "      <td>0.206045</td>\n",
              "      <td>0.127325</td>\n",
              "      <td>1.101174</td>\n",
              "      <td>4.333713</td>\n",
              "      <td>0.971955</td>\n",
              "      <td>0.783568</td>\n",
              "      <td>...</td>\n",
              "      <td>0.135120</td>\n",
              "      <td>0.106398</td>\n",
              "      <td>0.016931</td>\n",
              "      <td>0.266667</td>\n",
              "      <td>0.712812</td>\n",
              "      <td>0.007812</td>\n",
              "      <td>5.484375</td>\n",
              "      <td>5.476562</td>\n",
              "      <td>0.208274</td>\n",
              "      <td>male</td>\n",
              "    </tr>\n",
              "    <tr>\n",
              "      <th>...</th>\n",
              "      <td>...</td>\n",
              "      <td>...</td>\n",
              "      <td>...</td>\n",
              "      <td>...</td>\n",
              "      <td>...</td>\n",
              "      <td>...</td>\n",
              "      <td>...</td>\n",
              "      <td>...</td>\n",
              "      <td>...</td>\n",
              "      <td>...</td>\n",
              "      <td>...</td>\n",
              "      <td>...</td>\n",
              "      <td>...</td>\n",
              "      <td>...</td>\n",
              "      <td>...</td>\n",
              "      <td>...</td>\n",
              "      <td>...</td>\n",
              "      <td>...</td>\n",
              "      <td>...</td>\n",
              "      <td>...</td>\n",
              "      <td>...</td>\n",
              "    </tr>\n",
              "    <tr>\n",
              "      <th>3163</th>\n",
              "      <td>0.131884</td>\n",
              "      <td>0.084734</td>\n",
              "      <td>0.153707</td>\n",
              "      <td>0.049285</td>\n",
              "      <td>0.201144</td>\n",
              "      <td>0.151859</td>\n",
              "      <td>1.762129</td>\n",
              "      <td>6.630383</td>\n",
              "      <td>0.962934</td>\n",
              "      <td>0.763182</td>\n",
              "      <td>...</td>\n",
              "      <td>0.131884</td>\n",
              "      <td>0.182790</td>\n",
              "      <td>0.083770</td>\n",
              "      <td>0.262295</td>\n",
              "      <td>0.832899</td>\n",
              "      <td>0.007812</td>\n",
              "      <td>4.210938</td>\n",
              "      <td>4.203125</td>\n",
              "      <td>0.161929</td>\n",
              "      <td>female</td>\n",
              "    </tr>\n",
              "    <tr>\n",
              "      <th>3164</th>\n",
              "      <td>0.116221</td>\n",
              "      <td>0.089221</td>\n",
              "      <td>0.076758</td>\n",
              "      <td>0.042718</td>\n",
              "      <td>0.204911</td>\n",
              "      <td>0.162193</td>\n",
              "      <td>0.693730</td>\n",
              "      <td>2.503954</td>\n",
              "      <td>0.960716</td>\n",
              "      <td>0.709570</td>\n",
              "      <td>...</td>\n",
              "      <td>0.116221</td>\n",
              "      <td>0.188980</td>\n",
              "      <td>0.034409</td>\n",
              "      <td>0.275862</td>\n",
              "      <td>0.909856</td>\n",
              "      <td>0.039062</td>\n",
              "      <td>3.679688</td>\n",
              "      <td>3.640625</td>\n",
              "      <td>0.277897</td>\n",
              "      <td>female</td>\n",
              "    </tr>\n",
              "    <tr>\n",
              "      <th>3165</th>\n",
              "      <td>0.142056</td>\n",
              "      <td>0.095798</td>\n",
              "      <td>0.183731</td>\n",
              "      <td>0.033424</td>\n",
              "      <td>0.224360</td>\n",
              "      <td>0.190936</td>\n",
              "      <td>1.876502</td>\n",
              "      <td>6.604509</td>\n",
              "      <td>0.946854</td>\n",
              "      <td>0.654196</td>\n",
              "      <td>...</td>\n",
              "      <td>0.142056</td>\n",
              "      <td>0.209918</td>\n",
              "      <td>0.039506</td>\n",
              "      <td>0.275862</td>\n",
              "      <td>0.494271</td>\n",
              "      <td>0.007812</td>\n",
              "      <td>2.937500</td>\n",
              "      <td>2.929688</td>\n",
              "      <td>0.194759</td>\n",
              "      <td>female</td>\n",
              "    </tr>\n",
              "    <tr>\n",
              "      <th>3166</th>\n",
              "      <td>0.143659</td>\n",
              "      <td>0.090628</td>\n",
              "      <td>0.184976</td>\n",
              "      <td>0.043508</td>\n",
              "      <td>0.219943</td>\n",
              "      <td>0.176435</td>\n",
              "      <td>1.591065</td>\n",
              "      <td>5.388298</td>\n",
              "      <td>0.950436</td>\n",
              "      <td>0.675470</td>\n",
              "      <td>...</td>\n",
              "      <td>0.143659</td>\n",
              "      <td>0.172375</td>\n",
              "      <td>0.034483</td>\n",
              "      <td>0.250000</td>\n",
              "      <td>0.791360</td>\n",
              "      <td>0.007812</td>\n",
              "      <td>3.593750</td>\n",
              "      <td>3.585938</td>\n",
              "      <td>0.311002</td>\n",
              "      <td>female</td>\n",
              "    </tr>\n",
              "    <tr>\n",
              "      <th>3167</th>\n",
              "      <td>0.165509</td>\n",
              "      <td>0.092884</td>\n",
              "      <td>0.183044</td>\n",
              "      <td>0.070072</td>\n",
              "      <td>0.250827</td>\n",
              "      <td>0.180756</td>\n",
              "      <td>1.705029</td>\n",
              "      <td>5.769115</td>\n",
              "      <td>0.938829</td>\n",
              "      <td>0.601529</td>\n",
              "      <td>...</td>\n",
              "      <td>0.165509</td>\n",
              "      <td>0.185607</td>\n",
              "      <td>0.062257</td>\n",
              "      <td>0.271186</td>\n",
              "      <td>0.227022</td>\n",
              "      <td>0.007812</td>\n",
              "      <td>0.554688</td>\n",
              "      <td>0.546875</td>\n",
              "      <td>0.350000</td>\n",
              "      <td>female</td>\n",
              "    </tr>\n",
              "  </tbody>\n",
              "</table>\n",
              "<p>3168 rows × 21 columns</p>\n",
              "</div>\n",
              "      <button class=\"colab-df-convert\" onclick=\"convertToInteractive('df-4d5027a1-5597-4b5a-9582-3f6ff9fee300')\"\n",
              "              title=\"Convert this dataframe to an interactive table.\"\n",
              "              style=\"display:none;\">\n",
              "        \n",
              "  <svg xmlns=\"http://www.w3.org/2000/svg\" height=\"24px\"viewBox=\"0 0 24 24\"\n",
              "       width=\"24px\">\n",
              "    <path d=\"M0 0h24v24H0V0z\" fill=\"none\"/>\n",
              "    <path d=\"M18.56 5.44l.94 2.06.94-2.06 2.06-.94-2.06-.94-.94-2.06-.94 2.06-2.06.94zm-11 1L8.5 8.5l.94-2.06 2.06-.94-2.06-.94L8.5 2.5l-.94 2.06-2.06.94zm10 10l.94 2.06.94-2.06 2.06-.94-2.06-.94-.94-2.06-.94 2.06-2.06.94z\"/><path d=\"M17.41 7.96l-1.37-1.37c-.4-.4-.92-.59-1.43-.59-.52 0-1.04.2-1.43.59L10.3 9.45l-7.72 7.72c-.78.78-.78 2.05 0 2.83L4 21.41c.39.39.9.59 1.41.59.51 0 1.02-.2 1.41-.59l7.78-7.78 2.81-2.81c.8-.78.8-2.07 0-2.86zM5.41 20L4 18.59l7.72-7.72 1.47 1.35L5.41 20z\"/>\n",
              "  </svg>\n",
              "      </button>\n",
              "      \n",
              "  <style>\n",
              "    .colab-df-container {\n",
              "      display:flex;\n",
              "      flex-wrap:wrap;\n",
              "      gap: 12px;\n",
              "    }\n",
              "\n",
              "    .colab-df-convert {\n",
              "      background-color: #E8F0FE;\n",
              "      border: none;\n",
              "      border-radius: 50%;\n",
              "      cursor: pointer;\n",
              "      display: none;\n",
              "      fill: #1967D2;\n",
              "      height: 32px;\n",
              "      padding: 0 0 0 0;\n",
              "      width: 32px;\n",
              "    }\n",
              "\n",
              "    .colab-df-convert:hover {\n",
              "      background-color: #E2EBFA;\n",
              "      box-shadow: 0px 1px 2px rgba(60, 64, 67, 0.3), 0px 1px 3px 1px rgba(60, 64, 67, 0.15);\n",
              "      fill: #174EA6;\n",
              "    }\n",
              "\n",
              "    [theme=dark] .colab-df-convert {\n",
              "      background-color: #3B4455;\n",
              "      fill: #D2E3FC;\n",
              "    }\n",
              "\n",
              "    [theme=dark] .colab-df-convert:hover {\n",
              "      background-color: #434B5C;\n",
              "      box-shadow: 0px 1px 3px 1px rgba(0, 0, 0, 0.15);\n",
              "      filter: drop-shadow(0px 1px 2px rgba(0, 0, 0, 0.3));\n",
              "      fill: #FFFFFF;\n",
              "    }\n",
              "  </style>\n",
              "\n",
              "      <script>\n",
              "        const buttonEl =\n",
              "          document.querySelector('#df-4d5027a1-5597-4b5a-9582-3f6ff9fee300 button.colab-df-convert');\n",
              "        buttonEl.style.display =\n",
              "          google.colab.kernel.accessAllowed ? 'block' : 'none';\n",
              "\n",
              "        async function convertToInteractive(key) {\n",
              "          const element = document.querySelector('#df-4d5027a1-5597-4b5a-9582-3f6ff9fee300');\n",
              "          const dataTable =\n",
              "            await google.colab.kernel.invokeFunction('convertToInteractive',\n",
              "                                                     [key], {});\n",
              "          if (!dataTable) return;\n",
              "\n",
              "          const docLinkHtml = 'Like what you see? Visit the ' +\n",
              "            '<a target=\"_blank\" href=https://colab.research.google.com/notebooks/data_table.ipynb>data table notebook</a>'\n",
              "            + ' to learn more about interactive tables.';\n",
              "          element.innerHTML = '';\n",
              "          dataTable['output_type'] = 'display_data';\n",
              "          await google.colab.output.renderOutput(dataTable, element);\n",
              "          const docLink = document.createElement('div');\n",
              "          docLink.innerHTML = docLinkHtml;\n",
              "          element.appendChild(docLink);\n",
              "        }\n",
              "      </script>\n",
              "    </div>\n",
              "  </div>\n",
              "  "
            ]
          },
          "metadata": {},
          "execution_count": 6
        }
      ]
    },
    {
      "cell_type": "code",
      "source": [
        "df.isnull().sum()\n",
        "df.isna().sum()"
      ],
      "metadata": {
        "colab": {
          "base_uri": "https://localhost:8080/"
        },
        "id": "X3kOveYYG1qN",
        "outputId": "171f7e0e-7df8-4051-a792-d1796cce6317"
      },
      "execution_count": null,
      "outputs": [
        {
          "output_type": "execute_result",
          "data": {
            "text/plain": [
              "meanfreq    0\n",
              "sd          0\n",
              "median      0\n",
              "Q25         0\n",
              "Q75         0\n",
              "IQR         0\n",
              "skew        0\n",
              "kurt        0\n",
              "sp.ent      0\n",
              "sfm         0\n",
              "mode        0\n",
              "centroid    0\n",
              "meanfun     0\n",
              "minfun      0\n",
              "maxfun      0\n",
              "meandom     0\n",
              "mindom      0\n",
              "maxdom      0\n",
              "dfrange     0\n",
              "modindx     0\n",
              "label       0\n",
              "dtype: int64"
            ]
          },
          "metadata": {},
          "execution_count": 7
        }
      ]
    },
    {
      "cell_type": "code",
      "source": [
        "df.info()"
      ],
      "metadata": {
        "colab": {
          "base_uri": "https://localhost:8080/"
        },
        "id": "OsQfrJcN5tdg",
        "outputId": "201bb386-8738-46a8-cf7c-c25441cae5fe"
      },
      "execution_count": null,
      "outputs": [
        {
          "output_type": "stream",
          "name": "stdout",
          "text": [
            "<class 'pandas.core.frame.DataFrame'>\n",
            "RangeIndex: 3168 entries, 0 to 3167\n",
            "Data columns (total 21 columns):\n",
            " #   Column    Non-Null Count  Dtype  \n",
            "---  ------    --------------  -----  \n",
            " 0   meanfreq  3168 non-null   float64\n",
            " 1   sd        3168 non-null   float64\n",
            " 2   median    3168 non-null   float64\n",
            " 3   Q25       3168 non-null   float64\n",
            " 4   Q75       3168 non-null   float64\n",
            " 5   IQR       3168 non-null   float64\n",
            " 6   skew      3168 non-null   float64\n",
            " 7   kurt      3168 non-null   float64\n",
            " 8   sp.ent    3168 non-null   float64\n",
            " 9   sfm       3168 non-null   float64\n",
            " 10  mode      3168 non-null   float64\n",
            " 11  centroid  3168 non-null   float64\n",
            " 12  meanfun   3168 non-null   float64\n",
            " 13  minfun    3168 non-null   float64\n",
            " 14  maxfun    3168 non-null   float64\n",
            " 15  meandom   3168 non-null   float64\n",
            " 16  mindom    3168 non-null   float64\n",
            " 17  maxdom    3168 non-null   float64\n",
            " 18  dfrange   3168 non-null   float64\n",
            " 19  modindx   3168 non-null   float64\n",
            " 20  label     3168 non-null   object \n",
            "dtypes: float64(20), object(1)\n",
            "memory usage: 519.9+ KB\n"
          ]
        }
      ]
    },
    {
      "cell_type": "markdown",
      "source": [
        "Dimension of the dataset"
      ],
      "metadata": {
        "id": "X3F-_TLnHSEA"
      }
    },
    {
      "cell_type": "code",
      "source": [
        "print(\"gender set dimensions : {}\".format(df.shape))"
      ],
      "metadata": {
        "colab": {
          "base_uri": "https://localhost:8080/"
        },
        "id": "DLceE3qaDLM3",
        "outputId": "3b8af700-32db-4dc3-f751-06178560f27b"
      },
      "execution_count": null,
      "outputs": [
        {
          "output_type": "stream",
          "name": "stdout",
          "text": [
            "gender set dimensions : (3168, 21)\n"
          ]
        }
      ]
    },
    {
      "cell_type": "markdown",
      "source": [
        "# visualization"
      ],
      "metadata": {
        "id": "lzRW3DB3Cjwi"
      }
    },
    {
      "cell_type": "code",
      "source": [
        "df['label'].value_counts().plot.bar()"
      ],
      "metadata": {
        "colab": {
          "base_uri": "https://localhost:8080/",
          "height": 307
        },
        "id": "QB8CCPM1CyWT",
        "outputId": "2caaf477-1cb5-46b6-946b-e61c24fa860a"
      },
      "execution_count": null,
      "outputs": [
        {
          "output_type": "execute_result",
          "data": {
            "text/plain": [
              "<matplotlib.axes._subplots.AxesSubplot at 0x7f5bd69c7e90>"
            ]
          },
          "metadata": {},
          "execution_count": 10
        },
        {
          "output_type": "display_data",
          "data": {
            "text/plain": [
              "<Figure size 432x288 with 1 Axes>"
            ],
            "image/png": "[encoded data removed]"
          },
          "metadata": {
            "needs_background": "light"
          }
        }
      ]
    },
    {
      "cell_type": "code",
      "source": [
        "#1 for Male and 0 for Female\n",
        "df.label = [1 if each == \"male\" else 0 for each in df.label]\n",
        "#1 for Male and 0 for Female"
      ],
      "metadata": {
        "id": "xzS78kjT6HNs"
      },
      "execution_count": null,
      "outputs": []
    },
    {
      "cell_type": "code",
      "source": [
        "df"
      ],
      "metadata": {
        "colab": {
          "base_uri": "https://localhost:8080/",
          "height": 488
        },
        "id": "JCzmTqlt6IwL",
        "outputId": "804fcead-b162-4197-f920-95c1bf57f4f8"
      },
      "execution_count": null,
      "outputs": [
        {
          "output_type": "execute_result",
          "data": {
            "text/plain": [
              "      meanfreq        sd    median       Q25       Q75       IQR       skew  \\\n",
              "0     0.059781  0.064241  0.032027  0.015071  0.090193  0.075122  12.863462   \n",
              "1     0.066009  0.067310  0.040229  0.019414  0.092666  0.073252  22.423285   \n",
              "2     0.077316  0.083829  0.036718  0.008701  0.131908  0.123207  30.757155   \n",
              "3     0.151228  0.072111  0.158011  0.096582  0.207955  0.111374   1.232831   \n",
              "4     0.135120  0.079146  0.124656  0.078720  0.206045  0.127325   1.101174   \n",
              "...        ...       ...       ...       ...       ...       ...        ...   \n",
              "3163  0.131884  0.084734  0.153707  0.049285  0.201144  0.151859   1.762129   \n",
              "3164  0.116221  0.089221  0.076758  0.042718  0.204911  0.162193   0.693730   \n",
              "3165  0.142056  0.095798  0.183731  0.033424  0.224360  0.190936   1.876502   \n",
              "3166  0.143659  0.090628  0.184976  0.043508  0.219943  0.176435   1.591065   \n",
              "3167  0.165509  0.092884  0.183044  0.070072  0.250827  0.180756   1.705029   \n",
              "\n",
              "             kurt    sp.ent       sfm  ...  centroid   meanfun    minfun  \\\n",
              "0      274.402906  0.893369  0.491918  ...  0.059781  0.084279  0.015702   \n",
              "1      634.613855  0.892193  0.513724  ...  0.066009  0.107937  0.015826   \n",
              "2     1024.927705  0.846389  0.478905  ...  0.077316  0.098706  0.015656   \n",
              "3        4.177296  0.963322  0.727232  ...  0.151228  0.088965  0.017798   \n",
              "4        4.333713  0.971955  0.783568  ...  0.135120  0.106398  0.016931   \n",
              "...           ...       ...       ...  ...       ...       ...       ...   \n",
              "3163     6.630383  0.962934  0.763182  ...  0.131884  0.182790  0.083770   \n",
              "3164     2.503954  0.960716  0.709570  ...  0.116221  0.188980  0.034409   \n",
              "3165     6.604509  0.946854  0.654196  ...  0.142056  0.209918  0.039506   \n",
              "3166     5.388298  0.950436  0.675470  ...  0.143659  0.172375  0.034483   \n",
              "3167     5.769115  0.938829  0.601529  ...  0.165509  0.185607  0.062257   \n",
              "\n",
              "        maxfun   meandom    mindom    maxdom   dfrange   modindx  label  \n",
              "0     0.275862  0.007812  0.007812  0.007812  0.000000  0.000000      1  \n",
              "1     0.250000  0.009014  0.007812  0.054688  0.046875  0.052632      1  \n",
              "2     0.271186  0.007990  0.007812  0.015625  0.007812  0.046512      1  \n",
              "3     0.250000  0.201497  0.007812  0.562500  0.554688  0.247119      1  \n",
              "4     0.266667  0.712812  0.007812  5.484375  5.476562  0.208274      1  \n",
              "...        ...       ...       ...       ...       ...       ...    ...  \n",
              "3163  0.262295  0.832899  0.007812  4.210938  4.203125  0.161929      0  \n",
              "3164  0.275862  0.909856  0.039062  3.679688  3.640625  0.277897      0  \n",
              "3165  0.275862  0.494271  0.007812  2.937500  2.929688  0.194759      0  \n",
              "3166  0.250000  0.791360  0.007812  3.593750  3.585938  0.311002      0  \n",
              "3167  0.271186  0.227022  0.007812  0.554688  0.546875  0.350000      0  \n",
              "\n",
              "[3168 rows x 21 columns]"
            ],
            "text/html": [
              "\n",
              "  <div id=\"df-c2dbd642-8030-433d-8015-979c2d7716ea\">\n",
              "    <div class=\"colab-df-container\">\n",
              "      <div>\n",
              "<style scoped>\n",
              "    .dataframe tbody tr th:only-of-type {\n",
              "        vertical-align: middle;\n",
              "    }\n",
              "\n",
              "    .dataframe tbody tr th {\n",
              "        vertical-align: top;\n",
              "    }\n",
              "\n",
              "    .dataframe thead th {\n",
              "        text-align: right;\n",
              "    }\n",
              "</style>\n",
              "<table border=\"1\" class=\"dataframe\">\n",
              "  <thead>\n",
              "    <tr style=\"text-align: right;\">\n",
              "      <th></th>\n",
              "      <th>meanfreq</th>\n",
              "      <th>sd</th>\n",
              "      <th>median</th>\n",
              "      <th>Q25</th>\n",
              "      <th>Q75</th>\n",
              "      <th>IQR</th>\n",
              "      <th>skew</th>\n",
              "      <th>kurt</th>\n",
              "      <th>sp.ent</th>\n",
              "      <th>sfm</th>\n",
              "      <th>...</th>\n",
              "      <th>centroid</th>\n",
              "      <th>meanfun</th>\n",
              "      <th>minfun</th>\n",
              "      <th>maxfun</th>\n",
              "      <th>meandom</th>\n",
              "      <th>mindom</th>\n",
              "      <th>maxdom</th>\n",
              "      <th>dfrange</th>\n",
              "      <th>modindx</th>\n",
              "      <th>label</th>\n",
              "    </tr>\n",
              "  </thead>\n",
              "  <tbody>\n",
              "    <tr>\n",
              "      <th>0</th>\n",
              "      <td>0.059781</td>\n",
              "      <td>0.064241</td>\n",
              "      <td>0.032027</td>\n",
              "      <td>0.015071</td>\n",
              "      <td>0.090193</td>\n",
              "      <td>0.075122</td>\n",
              "      <td>12.863462</td>\n",
              "      <td>274.402906</td>\n",
              "      <td>0.893369</td>\n",
              "      <td>0.491918</td>\n",
              "      <td>...</td>\n",
              "      <td>0.059781</td>\n",
              "      <td>0.084279</td>\n",
              "      <td>0.015702</td>\n",
              "      <td>0.275862</td>\n",
              "      <td>0.007812</td>\n",
              "      <td>0.007812</td>\n",
              "      <td>0.007812</td>\n",
              "      <td>0.000000</td>\n",
              "      <td>0.000000</td>\n",
              "      <td>1</td>\n",
              "    </tr>\n",
              "    <tr>\n",
              "      <th>1</th>\n",
              "      <td>0.066009</td>\n",
              "      <td>0.067310</td>\n",
              "      <td>0.040229</td>\n",
              "      <td>0.019414</td>\n",
              "      <td>0.092666</td>\n",
              "      <td>0.073252</td>\n",
              "      <td>22.423285</td>\n",
              "      <td>634.613855</td>\n",
              "      <td>0.892193</td>\n",
              "      <td>0.513724</td>\n",
              "      <td>...</td>\n",
              "      <td>0.066009</td>\n",
              "      <td>0.107937</td>\n",
              "      <td>0.015826</td>\n",
              "      <td>0.250000</td>\n",
              "      <td>0.009014</td>\n",
              "      <td>0.007812</td>\n",
              "      <td>0.054688</td>\n",
              "      <td>0.046875</td>\n",
              "      <td>0.052632</td>\n",
              "      <td>1</td>\n",
              "    </tr>\n",
              "    <tr>\n",
              "      <th>2</th>\n",
              "      <td>0.077316</td>\n",
              "      <td>0.083829</td>\n",
              "      <td>0.036718</td>\n",
              "      <td>0.008701</td>\n",
              "      <td>0.131908</td>\n",
              "      <td>0.123207</td>\n",
              "      <td>30.757155</td>\n",
              "      <td>1024.927705</td>\n",
              "      <td>0.846389</td>\n",
              "      <td>0.478905</td>\n",
              "      <td>...</td>\n",
              "      <td>0.077316</td>\n",
              "      <td>0.098706</td>\n",
              "      <td>0.015656</td>\n",
              "      <td>0.271186</td>\n",
              "      <td>0.007990</td>\n",
              "      <td>0.007812</td>\n",
              "      <td>0.015625</td>\n",
              "      <td>0.007812</td>\n",
              "      <td>0.046512</td>\n",
              "      <td>1</td>\n",
              "    </tr>\n",
              "    <tr>\n",
              "      <th>3</th>\n",
              "      <td>0.151228</td>\n",
              "      <td>0.072111</td>\n",
              "      <td>0.158011</td>\n",
              "      <td>0.096582</td>\n",
              "      <td>0.207955</td>\n",
              "      <td>0.111374</td>\n",
              "      <td>1.232831</td>\n",
              "      <td>4.177296</td>\n",
              "      <td>0.963322</td>\n",
              "      <td>0.727232</td>\n",
              "      <td>...</td>\n",
              "      <td>0.151228</td>\n",
              "      <td>0.088965</td>\n",
              "      <td>0.017798</td>\n",
              "      <td>0.250000</td>\n",
              "      <td>0.201497</td>\n",
              "      <td>0.007812</td>\n",
              "      <td>0.562500</td>\n",
              "      <td>0.554688</td>\n",
              "      <td>0.247119</td>\n",
              "      <td>1</td>\n",
              "    </tr>\n",
              "    <tr>\n",
              "      <th>4</th>\n",
              "      <td>0.135120</td>\n",
              "      <td>0.079146</td>\n",
              "      <td>0.124656</td>\n",
              "      <td>0.078720</td>\n",
              "      <td>0.206045</td>\n",
              "      <td>0.127325</td>\n",
              "      <td>1.101174</td>\n",
              "      <td>4.333713</td>\n",
              "      <td>0.971955</td>\n",
              "      <td>0.783568</td>\n",
              "      <td>...</td>\n",
              "      <td>0.135120</td>\n",
              "      <td>0.106398</td>\n",
              "      <td>0.016931</td>\n",
              "      <td>0.266667</td>\n",
              "      <td>0.712812</td>\n",
              "      <td>0.007812</td>\n",
              "      <td>5.484375</td>\n",
              "      <td>5.476562</td>\n",
              "      <td>0.208274</td>\n",
              "      <td>1</td>\n",
              "    </tr>\n",
              "    <tr>\n",
              "      <th>...</th>\n",
              "      <td>...</td>\n",
              "      <td>...</td>\n",
              "      <td>...</td>\n",
              "      <td>...</td>\n",
              "      <td>...</td>\n",
              "      <td>...</td>\n",
              "      <td>...</td>\n",
              "      <td>...</td>\n",
              "      <td>...</td>\n",
              "      <td>...</td>\n",
              "      <td>...</td>\n",
              "      <td>...</td>\n",
              "      <td>...</td>\n",
              "      <td>...</td>\n",
              "      <td>...</td>\n",
              "      <td>...</td>\n",
              "      <td>...</td>\n",
              "      <td>...</td>\n",
              "      <td>...</td>\n",
              "      <td>...</td>\n",
              "      <td>...</td>\n",
              "    </tr>\n",
              "    <tr>\n",
              "      <th>3163</th>\n",
              "      <td>0.131884</td>\n",
              "      <td>0.084734</td>\n",
              "      <td>0.153707</td>\n",
              "      <td>0.049285</td>\n",
              "      <td>0.201144</td>\n",
              "      <td>0.151859</td>\n",
              "      <td>1.762129</td>\n",
              "      <td>6.630383</td>\n",
              "      <td>0.962934</td>\n",
              "      <td>0.763182</td>\n",
              "      <td>...</td>\n",
              "      <td>0.131884</td>\n",
              "      <td>0.182790</td>\n",
              "      <td>0.083770</td>\n",
              "      <td>0.262295</td>\n",
              "      <td>0.832899</td>\n",
              "      <td>0.007812</td>\n",
              "      <td>4.210938</td>\n",
              "      <td>4.203125</td>\n",
              "      <td>0.161929</td>\n",
              "      <td>0</td>\n",
              "    </tr>\n",
              "    <tr>\n",
              "      <th>3164</th>\n",
              "      <td>0.116221</td>\n",
              "      <td>0.089221</td>\n",
              "      <td>0.076758</td>\n",
              "      <td>0.042718</td>\n",
              "      <td>0.204911</td>\n",
              "      <td>0.162193</td>\n",
              "      <td>0.693730</td>\n",
              "      <td>2.503954</td>\n",
              "      <td>0.960716</td>\n",
              "      <td>0.709570</td>\n",
              "      <td>...</td>\n",
              "      <td>0.116221</td>\n",
              "      <td>0.188980</td>\n",
              "      <td>0.034409</td>\n",
              "      <td>0.275862</td>\n",
              "      <td>0.909856</td>\n",
              "      <td>0.039062</td>\n",
              "      <td>3.679688</td>\n",
              "      <td>3.640625</td>\n",
              "      <td>0.277897</td>\n",
              "      <td>0</td>\n",
              "    </tr>\n",
              "    <tr>\n",
              "      <th>3165</th>\n",
              "      <td>0.142056</td>\n",
              "      <td>0.095798</td>\n",
              "      <td>0.183731</td>\n",
              "      <td>0.033424</td>\n",
              "      <td>0.224360</td>\n",
              "      <td>0.190936</td>\n",
              "      <td>1.876502</td>\n",
              "      <td>6.604509</td>\n",
              "      <td>0.946854</td>\n",
              "      <td>0.654196</td>\n",
              "      <td>...</td>\n",
              "      <td>0.142056</td>\n",
              "      <td>0.209918</td>\n",
              "      <td>0.039506</td>\n",
              "      <td>0.275862</td>\n",
              "      <td>0.494271</td>\n",
              "      <td>0.007812</td>\n",
              "      <td>2.937500</td>\n",
              "      <td>2.929688</td>\n",
              "      <td>0.194759</td>\n",
              "      <td>0</td>\n",
              "    </tr>\n",
              "    <tr>\n",
              "      <th>3166</th>\n",
              "      <td>0.143659</td>\n",
              "      <td>0.090628</td>\n",
              "      <td>0.184976</td>\n",
              "      <td>0.043508</td>\n",
              "      <td>0.219943</td>\n",
              "      <td>0.176435</td>\n",
              "      <td>1.591065</td>\n",
              "      <td>5.388298</td>\n",
              "      <td>0.950436</td>\n",
              "      <td>0.675470</td>\n",
              "      <td>...</td>\n",
              "      <td>0.143659</td>\n",
              "      <td>0.172375</td>\n",
              "      <td>0.034483</td>\n",
              "      <td>0.250000</td>\n",
              "      <td>0.791360</td>\n",
              "      <td>0.007812</td>\n",
              "      <td>3.593750</td>\n",
              "      <td>3.585938</td>\n",
              "      <td>0.311002</td>\n",
              "      <td>0</td>\n",
              "    </tr>\n",
              "    <tr>\n",
              "      <th>3167</th>\n",
              "      <td>0.165509</td>\n",
              "      <td>0.092884</td>\n",
              "      <td>0.183044</td>\n",
              "      <td>0.070072</td>\n",
              "      <td>0.250827</td>\n",
              "      <td>0.180756</td>\n",
              "      <td>1.705029</td>\n",
              "      <td>5.769115</td>\n",
              "      <td>0.938829</td>\n",
              "      <td>0.601529</td>\n",
              "      <td>...</td>\n",
              "      <td>0.165509</td>\n",
              "      <td>0.185607</td>\n",
              "      <td>0.062257</td>\n",
              "      <td>0.271186</td>\n",
              "      <td>0.227022</td>\n",
              "      <td>0.007812</td>\n",
              "      <td>0.554688</td>\n",
              "      <td>0.546875</td>\n",
              "      <td>0.350000</td>\n",
              "      <td>0</td>\n",
              "    </tr>\n",
              "  </tbody>\n",
              "</table>\n",
              "<p>3168 rows × 21 columns</p>\n",
              "</div>\n",
              "      <button class=\"colab-df-convert\" onclick=\"convertToInteractive('df-c2dbd642-8030-433d-8015-979c2d7716ea')\"\n",
              "              title=\"Convert this dataframe to an interactive table.\"\n",
              "              style=\"display:none;\">\n",
              "        \n",
              "  <svg xmlns=\"http://www.w3.org/2000/svg\" height=\"24px\"viewBox=\"0 0 24 24\"\n",
              "       width=\"24px\">\n",
              "    <path d=\"M0 0h24v24H0V0z\" fill=\"none\"/>\n",
              "    <path d=\"M18.56 5.44l.94 2.06.94-2.06 2.06-.94-2.06-.94-.94-2.06-.94 2.06-2.06.94zm-11 1L8.5 8.5l.94-2.06 2.06-.94-2.06-.94L8.5 2.5l-.94 2.06-2.06.94zm10 10l.94 2.06.94-2.06 2.06-.94-2.06-.94-.94-2.06-.94 2.06-2.06.94z\"/><path d=\"M17.41 7.96l-1.37-1.37c-.4-.4-.92-.59-1.43-.59-.52 0-1.04.2-1.43.59L10.3 9.45l-7.72 7.72c-.78.78-.78 2.05 0 2.83L4 21.41c.39.39.9.59 1.41.59.51 0 1.02-.2 1.41-.59l7.78-7.78 2.81-2.81c.8-.78.8-2.07 0-2.86zM5.41 20L4 18.59l7.72-7.72 1.47 1.35L5.41 20z\"/>\n",
              "  </svg>\n",
              "      </button>\n",
              "      \n",
              "  <style>\n",
              "    .colab-df-container {\n",
              "      display:flex;\n",
              "      flex-wrap:wrap;\n",
              "      gap: 12px;\n",
              "    }\n",
              "\n",
              "    .colab-df-convert {\n",
              "      background-color: #E8F0FE;\n",
              "      border: none;\n",
              "      border-radius: 50%;\n",
              "      cursor: pointer;\n",
              "      display: none;\n",
              "      fill: #1967D2;\n",
              "      height: 32px;\n",
              "      padding: 0 0 0 0;\n",
              "      width: 32px;\n",
              "    }\n",
              "\n",
              "    .colab-df-convert:hover {\n",
              "      background-color: #E2EBFA;\n",
              "      box-shadow: 0px 1px 2px rgba(60, 64, 67, 0.3), 0px 1px 3px 1px rgba(60, 64, 67, 0.15);\n",
              "      fill: #174EA6;\n",
              "    }\n",
              "\n",
              "    [theme=dark] .colab-df-convert {\n",
              "      background-color: #3B4455;\n",
              "      fill: #D2E3FC;\n",
              "    }\n",
              "\n",
              "    [theme=dark] .colab-df-convert:hover {\n",
              "      background-color: #434B5C;\n",
              "      box-shadow: 0px 1px 3px 1px rgba(0, 0, 0, 0.15);\n",
              "      filter: drop-shadow(0px 1px 2px rgba(0, 0, 0, 0.3));\n",
              "      fill: #FFFFFF;\n",
              "    }\n",
              "  </style>\n",
              "\n",
              "      <script>\n",
              "        const buttonEl =\n",
              "          document.querySelector('#df-c2dbd642-8030-433d-8015-979c2d7716ea button.colab-df-convert');\n",
              "        buttonEl.style.display =\n",
              "          google.colab.kernel.accessAllowed ? 'block' : 'none';\n",
              "\n",
              "        async function convertToInteractive(key) {\n",
              "          const element = document.querySelector('#df-c2dbd642-8030-433d-8015-979c2d7716ea');\n",
              "          const dataTable =\n",
              "            await google.colab.kernel.invokeFunction('convertToInteractive',\n",
              "                                                     [key], {});\n",
              "          if (!dataTable) return;\n",
              "\n",
              "          const docLinkHtml = 'Like what you see? Visit the ' +\n",
              "            '<a target=\"_blank\" href=https://colab.research.google.com/notebooks/data_table.ipynb>data table notebook</a>'\n",
              "            + ' to learn more about interactive tables.';\n",
              "          element.innerHTML = '';\n",
              "          dataTable['output_type'] = 'display_data';\n",
              "          await google.colab.output.renderOutput(dataTable, element);\n",
              "          const docLink = document.createElement('div');\n",
              "          docLink.innerHTML = docLinkHtml;\n",
              "          element.appendChild(docLink);\n",
              "        }\n",
              "      </script>\n",
              "    </div>\n",
              "  </div>\n",
              "  "
            ]
          },
          "metadata": {},
          "execution_count": 12
        }
      ]
    },
    {
      "cell_type": "markdown",
      "source": [
        "# Splitting & Scaling the dataset"
      ],
      "metadata": {
        "id": "XdeROl8GHbQK"
      }
    },
    {
      "cell_type": "markdown",
      "source": [
        "Drop irrelevant feature"
      ],
      "metadata": {
        "id": "sP7YskodHuGW"
      }
    },
    {
      "cell_type": "code",
      "source": [
        "y = df['label'].copy()\n",
        "X = df.drop('label', axis=1).copy()"
      ],
      "metadata": {
        "id": "H5PbZi6H6LtM"
      },
      "execution_count": null,
      "outputs": []
    },
    {
      "cell_type": "code",
      "source": [
        "scaler = StandardScaler()\n",
        "\n",
        "X = scaler.fit_transform(X)"
      ],
      "metadata": {
        "id": "WIjG1YDA6PdF"
      },
      "execution_count": null,
      "outputs": []
    },
    {
      "cell_type": "code",
      "source": [
        "X_train, X_test, y_train, y_test = train_test_split(X, y, train_size=0.7, random_state=42)"
      ],
      "metadata": {
        "id": "vyKKpgRZ6RJP"
      },
      "execution_count": null,
      "outputs": []
    },
    {
      "cell_type": "code",
      "source": [
        "X.shape"
      ],
      "metadata": {
        "colab": {
          "base_uri": "https://localhost:8080/"
        },
        "id": "3qHAF7WA6Sud",
        "outputId": "7b7aa266-199f-4a3b-a8d7-64464526da90"
      },
      "execution_count": null,
      "outputs": [
        {
          "output_type": "execute_result",
          "data": {
            "text/plain": [
              "(3168, 20)"
            ]
          },
          "metadata": {},
          "execution_count": 16
        }
      ]
    },
    {
      "cell_type": "code",
      "source": [
        "inputs = tf.keras.Input(shape=(X.shape[1],))\n",
        "\n",
        "x = tf.keras.layers.Dense(64, activation='relu')(inputs)\n",
        "x = tf.keras.layers.Dense(64, activation='relu')(x)\n",
        "\n",
        "outputs = tf.keras.layers.Dense(1, activation='sigmoid')(x)\n",
        "\n",
        "model = tf.keras.Model(inputs, outputs)"
      ],
      "metadata": {
        "id": "QVwjlKmV6UaM"
      },
      "execution_count": null,
      "outputs": []
    },
    {
      "cell_type": "code",
      "source": [
        "model.summary()"
      ],
      "metadata": {
        "colab": {
          "base_uri": "https://localhost:8080/"
        },
        "id": "RlD6Syg-6WJG",
        "outputId": "a98657cb-c64e-40aa-e2e2-96ee3bd616b5"
      },
      "execution_count": null,
      "outputs": [
        {
          "output_type": "stream",
          "name": "stdout",
          "text": [
            "Model: \"model\"\n",
            "_________________________________________________________________\n",
            " Layer (type)                Output Shape              Param #   \n",
            "=================================================================\n",
            " input_1 (InputLayer)        [(None, 20)]              0         \n",
            "                                                                 \n",
            " dense (Dense)               (None, 64)                1344      \n",
            "                                                                 \n",
            " dense_1 (Dense)             (None, 64)                4160      \n",
            "                                                                 \n",
            " dense_2 (Dense)             (None, 1)                 65        \n",
            "                                                                 \n",
            "=================================================================\n",
            "Total params: 5,569\n",
            "Trainable params: 5,569\n",
            "Non-trainable params: 0\n",
            "_________________________________________________________________\n"
          ]
        }
      ]
    },
    {
      "cell_type": "markdown",
      "source": [
        "Using 'adam' optimization algorithm"
      ],
      "metadata": {
        "id": "LDb1wb2HH5l7"
      }
    },
    {
      "cell_type": "code",
      "source": [
        "model.compile(\n",
        "    optimizer='adam',\n",
        "    loss='binary_crossentropy',\n",
        "    metrics=[\n",
        "        'accuracy',\n",
        "        tf.keras.metrics.AUC(name='auc')\n",
        "    ]\n",
        ")\n",
        "history = model.fit(\n",
        "    X_train,\n",
        "    y_train,\n",
        "    validation_split=0.2,\n",
        "    batch_size=32,\n",
        "    epochs=100,\n",
        "    callbacks=[\n",
        "        tf.keras.callbacks.EarlyStopping(\n",
        "            monitor='val_loss',\n",
        "            patience=3,\n",
        "            restore_best_weights=True\n",
        "        )\n",
        "    ]\n",
        ")\n"
      ],
      "metadata": {
        "colab": {
          "base_uri": "https://localhost:8080/"
        },
        "id": "z_FR-zBV6YFq",
        "outputId": "19f92117-b239-4ad0-b237-aed359f877c7"
      },
      "execution_count": null,
      "outputs": [
        {
          "output_type": "stream",
          "name": "stdout",
          "text": [
            "Epoch 1/100\n",
            "56/56 [==============================] - 2s 9ms/step - loss: 0.4585 - accuracy: 0.8218 - auc: 0.9100 - val_loss: 0.2490 - val_accuracy: 0.9302 - val_auc: 0.9899\n",
            "Epoch 2/100\n",
            "56/56 [==============================] - 0s 3ms/step - loss: 0.1775 - accuracy: 0.9532 - auc: 0.9890 - val_loss: 0.1121 - val_accuracy: 0.9730 - val_auc: 0.9946\n",
            "Epoch 3/100\n",
            "56/56 [==============================] - 0s 3ms/step - loss: 0.0984 - accuracy: 0.9701 - auc: 0.9953 - val_loss: 0.0758 - val_accuracy: 0.9820 - val_auc: 0.9957\n",
            "Epoch 4/100\n",
            "56/56 [==============================] - 0s 3ms/step - loss: 0.0769 - accuracy: 0.9757 - auc: 0.9965 - val_loss: 0.0663 - val_accuracy: 0.9842 - val_auc: 0.9966\n",
            "Epoch 5/100\n",
            "56/56 [==============================] - 0s 3ms/step - loss: 0.0668 - accuracy: 0.9769 - auc: 0.9968 - val_loss: 0.0674 - val_accuracy: 0.9865 - val_auc: 0.9958\n",
            "Epoch 6/100\n",
            "56/56 [==============================] - 0s 3ms/step - loss: 0.0607 - accuracy: 0.9797 - auc: 0.9976 - val_loss: 0.0602 - val_accuracy: 0.9865 - val_auc: 0.9970\n",
            "Epoch 7/100\n",
            "56/56 [==============================] - 0s 3ms/step - loss: 0.0576 - accuracy: 0.9825 - auc: 0.9973 - val_loss: 0.0587 - val_accuracy: 0.9865 - val_auc: 0.9968\n",
            "Epoch 8/100\n",
            "56/56 [==============================] - 0s 2ms/step - loss: 0.0544 - accuracy: 0.9831 - auc: 0.9980 - val_loss: 0.0542 - val_accuracy: 0.9887 - val_auc: 0.9975\n",
            "Epoch 9/100\n",
            "56/56 [==============================] - 0s 3ms/step - loss: 0.0525 - accuracy: 0.9814 - auc: 0.9981 - val_loss: 0.0597 - val_accuracy: 0.9842 - val_auc: 0.9964\n",
            "Epoch 10/100\n",
            "56/56 [==============================] - 0s 2ms/step - loss: 0.0494 - accuracy: 0.9853 - auc: 0.9984 - val_loss: 0.0509 - val_accuracy: 0.9865 - val_auc: 0.9974\n",
            "Epoch 11/100\n",
            "56/56 [==============================] - 0s 3ms/step - loss: 0.0473 - accuracy: 0.9836 - auc: 0.9985 - val_loss: 0.0555 - val_accuracy: 0.9865 - val_auc: 0.9975\n",
            "Epoch 12/100\n",
            "56/56 [==============================] - 0s 3ms/step - loss: 0.0458 - accuracy: 0.9859 - auc: 0.9986 - val_loss: 0.0517 - val_accuracy: 0.9865 - val_auc: 0.9977\n",
            "Epoch 13/100\n",
            "56/56 [==============================] - 0s 3ms/step - loss: 0.0444 - accuracy: 0.9842 - auc: 0.9987 - val_loss: 0.0628 - val_accuracy: 0.9842 - val_auc: 0.9947\n"
          ]
        }
      ]
    },
    {
      "cell_type": "code",
      "source": [
        "model.evaluate(X_test, y_test)"
      ],
      "metadata": {
        "colab": {
          "base_uri": "https://localhost:8080/"
        },
        "id": "C9oPakoG6jOI",
        "outputId": "7ef5e6b8-6f9b-4322-acfa-12186716aa13"
      },
      "execution_count": null,
      "outputs": [
        {
          "output_type": "stream",
          "name": "stdout",
          "text": [
            "30/30 [==============================] - 0s 1ms/step - loss: 0.0656 - accuracy: 0.9779 - auc: 0.9976\n"
          ]
        },
        {
          "output_type": "execute_result",
          "data": {
            "text/plain": [
              "[0.06555173546075821, 0.9779179692268372, 0.9976124167442322]"
            ]
          },
          "metadata": {},
          "execution_count": 20
        }
      ]
    },
    {
      "cell_type": "markdown",
      "source": [
        "# benchmark model"
      ],
      "metadata": {
        "id": "RPpxieeYOliy"
      }
    },
    {
      "cell_type": "code",
      "source": [
        "#Accuracy of logstic regression \n",
        "from sklearn.linear_model import LogisticRegression\n",
        "classifier = LogisticRegression(random_state = 0)\n",
        "classifier.fit(X_train, y_train)\n",
        "lr_accuracy = classifier.score(X_test, y_test)\n",
        "print(f\"Accuracy of Logistic Regression Classifier is:{lr_accuracy}\")"
      ],
      "metadata": {
        "colab": {
          "base_uri": "https://localhost:8080/"
        },
        "id": "9DHyX9v6OoZR",
        "outputId": "24eb6310-2c6b-432c-b524-1e91818dd27b"
      },
      "execution_count": null,
      "outputs": [
        {
          "output_type": "stream",
          "name": "stdout",
          "text": [
            "Accuracy of Logistic Regression Classifier is:0.9726603575184016\n"
          ]
        }
      ]
    },
    {
      "cell_type": "code",
      "source": [
        "#Accuracy of SVM\n",
        "from sklearn.svm import SVC\n",
        "classifier =  SVC(kernel = 'linear', random_state = 0)\n",
        "classifier.fit(X_train, y_train)\n",
        "lr_accuracy = classifier.score(X_test, y_test)\n",
        "print(f\"Accuracy of SVM Classifier is:{lr_accuracy}\")"
      ],
      "metadata": {
        "colab": {
          "base_uri": "https://localhost:8080/"
        },
        "id": "scJVnEJROuTn",
        "outputId": "5a7fea48-45bc-445a-f61c-01921f098a79"
      },
      "execution_count": null,
      "outputs": [
        {
          "output_type": "stream",
          "name": "stdout",
          "text": [
            "Accuracy of SVM Classifier is:0.9705573080967402\n"
          ]
        }
      ]
    },
    {
      "cell_type": "code",
      "source": [
        "from sklearn import tree\n",
        "model = tree.DecisionTreeClassifier()\n",
        "model.fit(X_train,y_train)\n",
        "\n",
        "y_pred = model.predict(X_test)\n",
        "\n",
        "from sklearn import metrics\n",
        "cm = metrics.confusion_matrix(y_test, y_pred)\n",
        "print(cm) #Print the matrix\n",
        "\n",
        "print(\"Accuracy:\",metrics.accuracy_score(y_test, y_pred))"
      ],
      "metadata": {
        "colab": {
          "base_uri": "https://localhost:8080/"
        },
        "id": "pxJs6huMTOg8",
        "outputId": "71759fdc-c6a9-44b0-b5af-f6060a8394f4"
      },
      "execution_count": null,
      "outputs": [
        {
          "output_type": "stream",
          "name": "stdout",
          "text": [
            "[[439  13]\n",
            " [ 26 473]]\n",
            "Accuracy: 0.9589905362776026\n"
          ]
        }
      ]
    },
    {
      "cell_type": "code",
      "source": [
        "y_pred = model.predict(X_test)"
      ],
      "metadata": {
        "id": "L9AgV8MhTVO0"
      },
      "execution_count": null,
      "outputs": []
    },
    {
      "cell_type": "markdown",
      "source": [
        "Classification Algorithm 'SVM'"
      ],
      "metadata": {
        "id": "uGDXxQtTTKXt"
      }
    },
    {
      "cell_type": "code",
      "source": [
        "from sklearn.svm import SVC\n",
        "model = SVC()\n",
        "model.fit(X_train, y_train)\n",
        "model.score(X_test, y_test)"
      ],
      "metadata": {
        "colab": {
          "base_uri": "https://localhost:8080/"
        },
        "id": "IvtqkC03TN3d",
        "outputId": "08881bf9-bd38-4c2c-fc21-bd12034ac9b4"
      },
      "execution_count": null,
      "outputs": [
        {
          "output_type": "execute_result",
          "data": {
            "text/plain": [
              "0.9810725552050473"
            ]
          },
          "metadata": {},
          "execution_count": 25
        }
      ]
    },
    {
      "cell_type": "code",
      "source": [
        "y_pred = model.predict(X_test)"
      ],
      "metadata": {
        "id": "ENqAd8PiUe2P"
      },
      "execution_count": null,
      "outputs": []
    },
    {
      "cell_type": "code",
      "source": [
        "#Try incresing the regularization \n",
        "from sklearn.svm import SVC\n",
        "model = SVC(C=10)\n",
        "model.fit(X_train, y_train)\n",
        "model.score(X_test, y_test)"
      ],
      "metadata": {
        "colab": {
          "base_uri": "https://localhost:8080/"
        },
        "id": "Gh3KoYbPUh3Q",
        "outputId": "7c438d38-184e-44e9-aa94-1f06165c9d0f"
      },
      "execution_count": null,
      "outputs": [
        {
          "output_type": "execute_result",
          "data": {
            "text/plain": [
              "0.9800210304942166"
            ]
          },
          "metadata": {},
          "execution_count": 27
        }
      ]
    },
    {
      "cell_type": "code",
      "source": [
        "#Try applying gamma \n",
        "model_g = SVC(gamma=10)\n",
        "model_g.fit(X_train, y_train)\n",
        "model_g.score(X_test, y_test)"
      ],
      "metadata": {
        "colab": {
          "base_uri": "https://localhost:8080/"
        },
        "id": "XvZd4y-oUps2",
        "outputId": "90e64ae3-042c-4efd-d330-9851d41d73a7"
      },
      "execution_count": null,
      "outputs": [
        {
          "output_type": "execute_result",
          "data": {
            "text/plain": [
              "0.508937960042061"
            ]
          },
          "metadata": {},
          "execution_count": 28
        }
      ]
    },
    {
      "cell_type": "code",
      "source": [
        "#Try applying linear kernel \n",
        "model_linear_kernal = SVC(kernel='linear')\n",
        "model_linear_kernal.fit(X_train, y_train)\n",
        "model_linear_kernal.score(X_test, y_test)"
      ],
      "metadata": {
        "colab": {
          "base_uri": "https://localhost:8080/"
        },
        "id": "jkREpxrHU5Dz",
        "outputId": "bc11f712-57a7-41aa-a93e-5e93deac9711"
      },
      "execution_count": null,
      "outputs": [
        {
          "output_type": "execute_result",
          "data": {
            "text/plain": [
              "0.9705573080967402"
            ]
          },
          "metadata": {},
          "execution_count": 29
        }
      ]
    },
    {
      "cell_type": "code",
      "source": [
        "#Try applying linear kernel \n",
        "model_linear_kernal = SVC(kernel='rbf')\n",
        "model_linear_kernal.fit(X_train, y_train)\n",
        "model_linear_kernal.score(X_test, y_test)"
      ],
      "metadata": {
        "colab": {
          "base_uri": "https://localhost:8080/"
        },
        "id": "z90bnRRpVEEA",
        "outputId": "5cb80008-3846-42f8-8ab9-1315ff4c2fdd"
      },
      "execution_count": null,
      "outputs": [
        {
          "output_type": "execute_result",
          "data": {
            "text/plain": [
              "0.9810725552050473"
            ]
          },
          "metadata": {},
          "execution_count": 30
        }
      ]
    },
    {
      "cell_type": "markdown",
      "source": [
        "# Evaluation Matrixes"
      ],
      "metadata": {
        "id": "5cAit7rGPG1V"
      }
    },
    {
      "cell_type": "code",
      "source": [
        "#predicting the Test set results \n",
        "Y_pred = classifier.predict(X_test)"
      ],
      "metadata": {
        "id": "Rjh9TsGcPgCl"
      },
      "execution_count": null,
      "outputs": []
    },
    {
      "cell_type": "code",
      "source": [
        "from sklearn import metrics\n",
        "cm = metrics.confusion_matrix(y_test, Y_pred)\n",
        "print(cm)"
      ],
      "metadata": {
        "colab": {
          "base_uri": "https://localhost:8080/"
        },
        "id": "GAfSVfahPcHy",
        "outputId": "aad9260f-a77b-4b62-f4f9-7e26a31b5f8f"
      },
      "execution_count": null,
      "outputs": [
        {
          "output_type": "stream",
          "name": "stdout",
          "text": [
            "[[437  15]\n",
            " [ 13 486]]\n"
          ]
        }
      ]
    },
    {
      "cell_type": "code",
      "source": [
        "# Use score method to get accuracy of model\n",
        "score = classifier.score(X_test, y_test)\n",
        "print(score)"
      ],
      "metadata": {
        "colab": {
          "base_uri": "https://localhost:8080/"
        },
        "id": "C-NP87S3Po6L",
        "outputId": "c5c666dc-e95b-4dff-c088-cfb5418ae0a9"
      },
      "execution_count": null,
      "outputs": [
        {
          "output_type": "stream",
          "name": "stdout",
          "text": [
            "0.9705573080967402\n"
          ]
        }
      ]
    },
    {
      "cell_type": "code",
      "source": [
        "import seaborn as sns\n",
        "plt.figure(figsize=(9,9))\n",
        "sns.heatmap(cm, annot=True, fmt=\".3f\", linewidths=.5, square = True, cmap = 'Blues_r');\n",
        "plt.ylabel('Actual label');\n",
        "plt.xlabel('Predicted label');\n",
        "all_sample_title = 'Accuracy Score: {0}'.format(score)\n",
        "plt.title(all_sample_title, size = 15);"
      ],
      "metadata": {
        "colab": {
          "base_uri": "https://localhost:8080/",
          "height": 520
        },
        "id": "PfiKWw9FPwPh",
        "outputId": "b9442568-c134-42fb-f2c0-269bb050ac59"
      },
      "execution_count": null,
      "outputs": [
        {
          "output_type": "display_data",
          "data": {
            "text/plain": [
              "<Figure size 648x648 with 2 Axes>"
            ],
            "image/png": "[encoded data removed]"
          },
          "metadata": {
            "needs_background": "light"
          }
        }
      ]
    },
    {
      "cell_type": "code",
      "source": [
        "from sklearn.metrics import classification_report, confusion_matrix\n",
        "print(confusion_matrix(y_test,y_pred))\n",
        "print(classification_report(y_test,y_pred))"
      ],
      "metadata": {
        "colab": {
          "base_uri": "https://localhost:8080/"
        },
        "id": "twgdo4n3WF5S",
        "outputId": "5315d4df-fa7e-4779-97a1-d432e817ad50"
      },
      "execution_count": null,
      "outputs": [
        {
          "output_type": "stream",
          "name": "stdout",
          "text": [
            "[[445   7]\n",
            " [ 11 488]]\n",
            "              precision    recall  f1-score   support\n",
            "\n",
            "           0       0.98      0.98      0.98       452\n",
            "           1       0.99      0.98      0.98       499\n",
            "\n",
            "    accuracy                           0.98       951\n",
            "   macro avg       0.98      0.98      0.98       951\n",
            "weighted avg       0.98      0.98      0.98       951\n",
            "\n"
          ]
        }
      ]
    }
  ]
}